{
  "nbformat": 4,
  "nbformat_minor": 0,
  "metadata": {
    "colab": {
      "provenance": [],
      "authorship_tag": "ABX9TyPwG6wjA0IXkklTewJ5JBjx",
      "include_colab_link": true
    },
    "kernelspec": {
      "name": "python3",
      "display_name": "Python 3"
    },
    "language_info": {
      "name": "python"
    }
  },
  "cells": [
    {
      "cell_type": "markdown",
      "metadata": {
        "id": "view-in-github",
        "colab_type": "text"
      },
      "source": [
        "<a href=\"https://colab.research.google.com/github/SathKay/AI-ML/blob/main/Sales.ipynb\" target=\"_parent\"><img src=\"https://colab.research.google.com/assets/colab-badge.svg\" alt=\"Open In Colab\"/></a>"
      ]
    },
    {
      "cell_type": "code",
      "execution_count": 1,
      "metadata": {
        "id": "RpFyneALo13K"
      },
      "outputs": [],
      "source": [
        "# step 1: import the libraries\n",
        "import numpy as np\n",
        "import matplotlib.pyplot as plt\n",
        "import pandas as pd\n",
        "from sklearn.model_selection import train_test_split\n",
        "from sklearn.linear_model import LinearRegression\n",
        "from sklearn.metrics import mean_squared_error"
      ]
    },
    {
      "cell_type": "code",
      "source": [
        "# step 2: reading the data and splitting it to input and output\n",
        "dataset = pd.read_csv('/content/sales.csv')\n",
        "inputx = dataset.iloc[:, 0:3].values\n",
        "outputy = dataset.iloc[:, 3].values\n",
        "print(outputy)"
      ],
      "metadata": {
        "colab": {
          "base_uri": "https://localhost:8080/"
        },
        "id": "XgDHuY_lpLBA",
        "outputId": "feaa961e-ad4b-4d44-fd30-9ea352165a68"
      },
      "execution_count": 5,
      "outputs": [
        {
          "output_type": "stream",
          "name": "stdout",
          "text": [
            "[22.1 10.4  9.3 18.5 12.9  7.2 11.8 13.2 15.6 12.2]\n"
          ]
        }
      ]
    },
    {
      "cell_type": "code",
      "source": [
        "print(dataset)"
      ],
      "metadata": {
        "colab": {
          "base_uri": "https://localhost:8080/"
        },
        "id": "2NVOoBxE1pzr",
        "outputId": "41a2ab49-2624-4e46-f0e8-f95fa8f3d511"
      },
      "execution_count": 6,
      "outputs": [
        {
          "output_type": "stream",
          "name": "stdout",
          "text": [
            "   TVBudget  RadioBudget  NewspaerBudget  Sales\n",
            "0     230.1         37.8            69.2   22.1\n",
            "1      44.5         39.3            45.1   10.4\n",
            "2      17.2         45.9            69.3    9.3\n",
            "3     151.5         41.3            58.5   18.5\n",
            "4     180.8         10.8            58.4   12.9\n",
            "5       8.7         48.9            75.0    7.2\n",
            "6      57.5         32.8            23.5   11.8\n",
            "7     120.2         19.6            11.6   13.2\n",
            "8     144.1         16.0            40.3   15.6\n",
            "9     111.6         12.6            37.9   12.2\n"
          ]
        }
      ]
    },
    {
      "cell_type": "code",
      "source": [
        "# step 3: select one fourth of the data for testing and two thirds for training\n",
        "input_train, input_test, output_train, output_test = train_test_split(inputx, outputy, test_size = 1/4, random_state = 0)\n"
      ],
      "metadata": {
        "id": "GBsrftHk2Ljh"
      },
      "execution_count": 7,
      "outputs": []
    },
    {
      "cell_type": "code",
      "source": [
        "# step 4: selecting the simple Linear Regression model\n",
        "model = LinearRegression()\n",
        "print(\"\\nThe parameters of the model are\\n\\n\",model.get_params())\n",
        "#print(model.set_params())\n",
        "print(\"\\nThe model we are using is \", model.fit(input_train, output_train))"
      ],
      "metadata": {
        "colab": {
          "base_uri": "https://localhost:8080/"
        },
        "id": "I96KkIH-2SBg",
        "outputId": "3a359924-6c43-41ea-b5aa-ed87b5cb7618"
      },
      "execution_count": 8,
      "outputs": [
        {
          "output_type": "stream",
          "name": "stdout",
          "text": [
            "\n",
            "The parameters of the model are\n",
            "\n",
            " {'copy_X': True, 'fit_intercept': True, 'n_jobs': None, 'positive': False}\n",
            "\n",
            "The model we are using is  LinearRegression()\n"
          ]
        }
      ]
    },
    {
      "cell_type": "code",
      "source": [
        "# step 5: testing or model prediction using testinput\n",
        "tvbudget = float(input(\"\\nGive the TV Budget value  \"))\n",
        "radiobudget = float(input(\"\\nGive the Radio Budget value  \"))\n",
        "newspaperbudget = float(input(\"\\nGive the Newspaper Budget value  \"))\n",
        "testinput = [[tvbudget,radiobudget,newspaperbudget]]\n",
        "predicted_output = model.predict(testinput)\n",
        "print('\\nThe test input is as follows ',testinput)\n",
        "print('\\nThe predicted sales unit is ',predicted_output)\n",
        "yes = input(\"\\nCan I proceed\\n\")\n"
      ],
      "metadata": {
        "colab": {
          "base_uri": "https://localhost:8080/"
        },
        "id": "pfKmGM-B2aiA",
        "outputId": "781d1639-a1e5-4030-b32f-7f5232d8c1ef"
      },
      "execution_count": 13,
      "outputs": [
        {
          "name": "stdout",
          "output_type": "stream",
          "text": [
            "\n",
            "Give the TV Budget value  230.1\n",
            "\n",
            "Give the Radio Budget value  37.8\n",
            "\n",
            "Give the Newspaper Budget value  69.2\n",
            "\n",
            "The test input is as follows  [[230.1, 37.8, 69.2]]\n",
            "\n",
            "The predicted sales unit is  [22.46769379]\n",
            "\n",
            "Can I proceed\n",
            "yes\n"
          ]
        }
      ]
    },
    {
      "cell_type": "code",
      "source": [
        "# step 6: Printing the testing results\n",
        "print(\"\\nThe test input (Tv Budget, Radio Budget and Newspaper Budget) is as follows \\n\")\n",
        "print(input_test)\n",
        "predicted_output = model.predict(input_test)\n",
        "print(\"\\nThe predicted sales units for the test input is as follows \\n\")\n",
        "print(predicted_output)"
      ],
      "metadata": {
        "colab": {
          "base_uri": "https://localhost:8080/"
        },
        "id": "6CMScqjy38Rd",
        "outputId": "74f7cbeb-fb54-4f9f-f971-fed8e32a20d6"
      },
      "execution_count": 19,
      "outputs": [
        {
          "output_type": "stream",
          "name": "stdout",
          "text": [
            "\n",
            "The test input (Tv Budget, Radio Budget and Newspaper Budget) is as follows \n",
            "\n",
            "[[ 17.2  45.9  69.3]\n",
            " [144.1  16.   40.3]\n",
            " [180.8  10.8  58.4]]\n",
            "\n",
            "The predicted sales units for the test input is as follows \n",
            "\n",
            "[ 8.27822465 14.43134582 15.68524304]\n"
          ]
        }
      ]
    }
  ]
}