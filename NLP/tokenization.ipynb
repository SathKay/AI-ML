{
  "nbformat": 4,
  "nbformat_minor": 0,
  "metadata": {
    "colab": {
      "provenance": []
    },
    "kernelspec": {
      "name": "python3",
      "display_name": "Python 3"
    },
    "language_info": {
      "name": "python"
    }
  },
  "cells": [
    {
      "cell_type": "code",
      "source": [
        "!pip install nltk"
      ],
      "metadata": {
        "colab": {
          "base_uri": "https://localhost:8080/"
        },
        "id": "93-wg1My_VtV",
        "outputId": "b5d11282-1ce1-4407-b37e-3dafec39d679"
      },
      "execution_count": null,
      "outputs": [
        {
          "output_type": "stream",
          "name": "stdout",
          "text": [
            "Requirement already satisfied: nltk in /usr/local/lib/python3.10/dist-packages (3.9.1)\n",
            "Requirement already satisfied: click in /usr/local/lib/python3.10/dist-packages (from nltk) (8.1.7)\n",
            "Requirement already satisfied: joblib in /usr/local/lib/python3.10/dist-packages (from nltk) (1.4.2)\n",
            "Requirement already satisfied: regex>=2021.8.3 in /usr/local/lib/python3.10/dist-packages (from nltk) (2024.9.11)\n",
            "Requirement already satisfied: tqdm in /usr/local/lib/python3.10/dist-packages (from nltk) (4.66.6)\n"
          ]
        }
      ]
    },
    {
      "cell_type": "code",
      "source": [
        "import nltk\n",
        "nltk.download('punkt')\n",
        "nltk.download('wordnet')"
      ],
      "metadata": {
        "colab": {
          "base_uri": "https://localhost:8080/"
        },
        "id": "J3O2sHyd_YjM",
        "outputId": "956b82e9-aa3a-406c-a21e-3174c2979bc3"
      },
      "execution_count": null,
      "outputs": [
        {
          "output_type": "stream",
          "name": "stderr",
          "text": [
            "[nltk_data] Downloading package punkt to /root/nltk_data...\n",
            "[nltk_data]   Unzipping tokenizers/punkt.zip.\n",
            "[nltk_data] Downloading package wordnet to /root/nltk_data...\n"
          ]
        },
        {
          "output_type": "execute_result",
          "data": {
            "text/plain": [
              "True"
            ]
          },
          "metadata": {},
          "execution_count": 2
        }
      ]
    },
    {
      "cell_type": "code",
      "source": [
        "nltk.download('punkt_tab')"
      ],
      "metadata": {
        "id": "ZAptHPhb_YZF",
        "colab": {
          "base_uri": "https://localhost:8080/"
        },
        "outputId": "f9164cdb-6c1c-4ead-ee7a-94e8dd73bd25"
      },
      "execution_count": null,
      "outputs": [
        {
          "output_type": "stream",
          "name": "stderr",
          "text": [
            "[nltk_data] Downloading package punkt_tab to /root/nltk_data...\n",
            "[nltk_data]   Unzipping tokenizers/punkt_tab.zip.\n"
          ]
        },
        {
          "output_type": "execute_result",
          "data": {
            "text/plain": [
              "True"
            ]
          },
          "metadata": {},
          "execution_count": 5
        }
      ]
    },
    {
      "cell_type": "code",
      "execution_count": null,
      "metadata": {
        "colab": {
          "base_uri": "https://localhost:8080/"
        },
        "id": "NcouyPns_T0m",
        "outputId": "383ea55e-ebb6-48bd-da1b-3333bd9fd588"
      },
      "outputs": [
        {
          "output_type": "stream",
          "name": "stdout",
          "text": [
            "['In', 'a', 'bizarre', 'incident', 'that', 'has', 'captivated', 'as', 'well', 'as', 'terrified', 'the', 'internet', ',', 'a', 'small', ',', 'AI-powered', 'robot', 'from', 'Hangzhou', 'successfully', 'kidnapped', '12', 'larger', 'robots', 'from', 'a', 'Shanghai', 'robotics', 'company', \"'s\", 'showroom', '.', 'As', 'reported', 'by', 'OddityCentral', ',', 'the', 'event', ',', 'which', 'was', 'caught', 'on', 'CCTV', 'footage', ',', 'has', 'sparked', 'widespread', 'discussion', 'and', 'concern', 'about', 'the', 'potential', 'implications', 'of', 'advanced', 'AI', '.']\n",
            "[\"In a bizarre incident that has captivated as well as terrified the internet, a small, AI-powered robot from Hangzhou successfully kidnapped 12 larger robots from a Shanghai robotics company's showroom.\", 'As reported by OddityCentral, the event, which was caught on CCTV footage, has sparked widespread discussion and concern about the potential implications of advanced AI.']\n"
          ]
        }
      ],
      "source": [
        "# Tokenization using NLTK\n",
        "from nltk import word_tokenize, sent_tokenize\n",
        "sent = \"In a bizarre incident that has captivated as well as terrified the internet, a small, AI-powered robot from Hangzhou successfully kidnapped \\\n",
        "12 larger robots from a Shanghai robotics company's showroom. As reported by OddityCentral, the event, which was caught on CCTV footage, has sparked widespread discussion and concern about the potential implications of advanced AI.\"\n",
        "print(word_tokenize(sent))\n",
        "print(sent_tokenize(sent))\n"
      ]
    }
  ]
}