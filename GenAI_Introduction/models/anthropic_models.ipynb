{
  "nbformat": 4,
  "nbformat_minor": 0,
  "metadata": {
    "colab": {
      "provenance": []
    },
    "kernelspec": {
      "name": "python3",
      "display_name": "Python 3"
    },
    "language_info": {
      "name": "python"
    }
  },
  "cells": [
    {
      "cell_type": "code",
      "execution_count": null,
      "metadata": {
        "id": "OXrC1Rs8v6DN"
      },
      "outputs": [],
      "source": []
    },
    {
      "cell_type": "code",
      "metadata": {
        "colab": {
          "base_uri": "https://localhost:8080/"
        },
        "id": "8a1a43e5",
        "outputId": "57631012-7351-4516-9d56-0dba7471f65e"
      },
      "source": [
        "# Install the Anthropic library\n",
        "!pip install anthropic\n",
        "\n",
        "# Import the library\n",
        "import anthropic\n",
        "import os\n",
        "\n",
        "# Set up your Anthropic API key.\n",
        "# Replace 'YOUR_ANTHROPIC_API_KEY' with your actual API key or use environment variables\n",
        "# It's recommended to use environment variables for security.\n",
        "# For example, you can set ANTHROPIC_API_KEY in your environment.\n",
        "# export ANTHROPIC_API_KEY='YOUR_ANTHROPIC_API_KEY'\n",
        "# Alternatively, you can directly set it here, but be cautious with sharing your notebook.\n",
        "# api_key = 'YOUR_ANTHROPIC_API_KEY'\n",
        "api_key = \"\"\n",
        "\n",
        "if not api_key:\n",
        "    print(\"Anthropic API key not found. Please set the ANTHROPIC_API_KEY environment variable.\")\n",
        "else:\n",
        "    # Initialize the client\n",
        "    client = anthropic.Anthropic(api_key=api_key)\n",
        "\n",
        "    # Note: The Anthropic API does not have a direct endpoint to list all models.\n",
        "    # The available models are generally known and documented.\n",
        "    # As of recent updates, the main models are:\n",
        "    # - claude-3-opus-20240229\n",
        "    # - claude-3-sonnet-20240229\n",
        "    # - claude-3-haiku-20240229\n",
        "    # - claude-2.1\n",
        "    # - claude-2.0\n",
        "    # - claude-instant-1.2\n",
        "\n",
        "    print(\"Known Anthropic models:\")\n",
        "    print(\"- claude-3-opus-20240229\")\n",
        "    print(\"- claude-3-sonnet-20240229\")\n",
        "    print(\"- claude-3-haiku-20240229\")\n",
        "    print(\"- claude-2.1\")\n",
        "    print(\"- claude-2.0\")\n",
        "    print(\"- claude-instant-1.2\")\n",
        "\n",
        "    # You can verify if a specific model exists by trying to use it,\n",
        "    # but there isn't a list endpoint.\n",
        "    # Example (requires a prompt and might incur cost):\n",
        "    # try:\n",
        "    #     message = client.messages.create(\n",
        "    #         model=\"claude-3-haiku-20240229\",\n",
        "    #         max_tokens=100,\n",
        "    #         messages=[\n",
        "    #             {\"role\": \"user\", \"content\": \"Hello, Claude\"}\n",
        "    #         ]\n",
        "    #     )\n",
        "    #     print(\"\\nSuccessfully accessed a model (claude-3-haiku-20240229).\")\n",
        "    # except Exception as e:\n",
        "    #     print(f\"\\nCould not access model: {e}\")"
      ],
      "execution_count": null,
      "outputs": [
        {
          "output_type": "stream",
          "name": "stdout",
          "text": [
            "Collecting anthropic\n",
            "  Downloading anthropic-0.57.1-py3-none-any.whl.metadata (27 kB)\n",
            "Requirement already satisfied: anyio<5,>=3.5.0 in /usr/local/lib/python3.11/dist-packages (from anthropic) (4.9.0)\n",
            "Requirement already satisfied: distro<2,>=1.7.0 in /usr/local/lib/python3.11/dist-packages (from anthropic) (1.9.0)\n",
            "Requirement already satisfied: httpx<1,>=0.25.0 in /usr/local/lib/python3.11/dist-packages (from anthropic) (0.28.1)\n",
            "Requirement already satisfied: jiter<1,>=0.4.0 in /usr/local/lib/python3.11/dist-packages (from anthropic) (0.10.0)\n",
            "Requirement already satisfied: pydantic<3,>=1.9.0 in /usr/local/lib/python3.11/dist-packages (from anthropic) (2.11.7)\n",
            "Requirement already satisfied: sniffio in /usr/local/lib/python3.11/dist-packages (from anthropic) (1.3.1)\n",
            "Requirement already satisfied: typing-extensions<5,>=4.10 in /usr/local/lib/python3.11/dist-packages (from anthropic) (4.14.0)\n",
            "Requirement already satisfied: idna>=2.8 in /usr/local/lib/python3.11/dist-packages (from anyio<5,>=3.5.0->anthropic) (3.10)\n",
            "Requirement already satisfied: certifi in /usr/local/lib/python3.11/dist-packages (from httpx<1,>=0.25.0->anthropic) (2025.6.15)\n",
            "Requirement already satisfied: httpcore==1.* in /usr/local/lib/python3.11/dist-packages (from httpx<1,>=0.25.0->anthropic) (1.0.9)\n",
            "Requirement already satisfied: h11>=0.16 in /usr/local/lib/python3.11/dist-packages (from httpcore==1.*->httpx<1,>=0.25.0->anthropic) (0.16.0)\n",
            "Requirement already satisfied: annotated-types>=0.6.0 in /usr/local/lib/python3.11/dist-packages (from pydantic<3,>=1.9.0->anthropic) (0.7.0)\n",
            "Requirement already satisfied: pydantic-core==2.33.2 in /usr/local/lib/python3.11/dist-packages (from pydantic<3,>=1.9.0->anthropic) (2.33.2)\n",
            "Requirement already satisfied: typing-inspection>=0.4.0 in /usr/local/lib/python3.11/dist-packages (from pydantic<3,>=1.9.0->anthropic) (0.4.1)\n",
            "Downloading anthropic-0.57.1-py3-none-any.whl (292 kB)\n",
            "\u001b[2K   \u001b[90m━━━━━━━━━━━━━━━━━━━━━━━━━━━━━━━━━━━━━━━━\u001b[0m \u001b[32m292.8/292.8 kB\u001b[0m \u001b[31m7.1 MB/s\u001b[0m eta \u001b[36m0:00:00\u001b[0m\n",
            "\u001b[?25hInstalling collected packages: anthropic\n",
            "Successfully installed anthropic-0.57.1\n",
            "Known Anthropic models:\n",
            "- claude-3-opus-20240229\n",
            "- claude-3-sonnet-20240229\n",
            "- claude-3-haiku-20240229\n",
            "- claude-2.1\n",
            "- claude-2.0\n",
            "- claude-instant-1.2\n"
          ]
        }
      ]
    },
    {
      "cell_type": "markdown",
      "metadata": {
        "id": "bd1decdb"
      },
      "source": [
        "**Note:** The Anthropic API does not have a dedicated endpoint to programmatically list all available models. The code above lists the commonly known models based on their documentation. To use any of these models, you will need to set your Anthropic API key."
      ]
    }
  ]
}